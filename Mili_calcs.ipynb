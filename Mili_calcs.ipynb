{
 "cells": [
  {
   "cell_type": "code",
   "execution_count": 10,
   "metadata": {
    "collapsed": false
   },
   "outputs": [
    {
     "name": "stdout",
     "output_type": "stream",
     "text": [
      "Leg mass = 0.005\n",
      "Mili mass = 0.233\n",
      "Moment at Mili = 3.163\n",
      "DC motor stall torque = 0.88269 Nm\n"
     ]
    }
   ],
   "source": [
    "import numpy as np\n",
    "gravity = 9.81\n",
    "\n",
    "# Variables for the voxel leg\n",
    "\n",
    "leg_cross_section = 4 # voxels\n",
    "leg_length = 6 # voxels\n",
    "mass_voxel_hardware = 0.0026 # 2.6g\n",
    "voxel_pitch = 0.076 # 3 inches = 0.076m\n",
    "leg_length = leg_length * voxel_pitch\n",
    "mass_leg = leg_cross_section * leg_length * mass_voxel_hardware\n",
    "weight_leg = gravity * mass_leg\n",
    "print \"Leg mass = \" + str(round(mass_leg,3))\n",
    "\n",
    "\n",
    "# Variables for Mili\n",
    "\n",
    "motor_mass_pololu = 0.0105 # 10.5g https://www.pololu.com/product/3057\n",
    "motor_mass_stepper = 0.130 # https://www.pololu.com/product/1207/specs\n",
    "motors_per_mili = 5\n",
    "additional_hardware_mass_mili = 0.05 # 50g of 3D printed feet and bearings\n",
    "mass_mili = (motors_per_mili * motor_mass_pololu) + additional_hardware_mass_mili + motor_mass_stepper\n",
    "weight_mili = gravity * mass_mili\n",
    "print \"Mili mass = \" + str(round(mass_mili,3))\n",
    "\n",
    "\n",
    "# Moment at joint when Bill-E formed of Mili's is cantilevered out\n",
    "\n",
    "moment = (weight_leg * 0.5 * leg_length) + (weight_mili * leg_length) + (weight_leg * 1.5 * leg_length) + (weight_mili * 2.0 * leg_length)\n",
    "print \"Moment at Mili = \" + str(round(moment,3))\n",
    "stall_torque = 0.88269 # Nm = 125 oz in\n",
    "print \"Pololu DC motor stall torque = \" + str(stall_torque) + \" Nm\"\n",
    "print \"Stepper motor \""
   ]
  },
  {
   "cell_type": "markdown",
   "metadata": {},
   "source": [
    "# Alternative setups\n",
    "## Double up the Pololu DC motor\n",
    "Probably won't work without PID controllers to ensure they're both running at the same speed.\n",
    "\n",
    "## Brushless DC Motor\n",
    "\n",
    "## Stepper motor\n",
    "\n",
    "### Stall torque vs holding torque\n",
    "DC motors are often specified in terms of stall torque whereas stepper motors are defined in terms of holding torque. In essence they refer to the same characteristic. This help sheet recommends \n"
   ]
  },
  {
   "cell_type": "code",
   "execution_count": null,
   "metadata": {
    "collapsed": true
   },
   "outputs": [],
   "source": []
  }
 ],
 "metadata": {
  "kernelspec": {
   "display_name": "Python 2",
   "language": "python",
   "name": "python2"
  },
  "language_info": {
   "codemirror_mode": {
    "name": "ipython",
    "version": 2
   },
   "file_extension": ".py",
   "mimetype": "text/x-python",
   "name": "python",
   "nbconvert_exporter": "python",
   "pygments_lexer": "ipython2",
   "version": "2.7.12"
  }
 },
 "nbformat": 4,
 "nbformat_minor": 0
}
